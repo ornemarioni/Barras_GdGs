{
 "cells": [
  {
   "cell_type": "code",
   "execution_count": 1,
   "metadata": {},
   "outputs": [
    {
     "name": "stdout",
     "output_type": "stream",
     "text": [
      "Populating the interactive namespace from numpy and matplotlib\n"
     ]
    }
   ],
   "source": [
    "%pylab inline"
   ]
  },
  {
   "cell_type": "markdown",
   "metadata": {},
   "source": [
    "## GADGET - part estelares dentro de rgal"
   ]
  },
  {
   "cell_type": "code",
   "execution_count": 2,
   "metadata": {},
   "outputs": [
    {
     "name": "stderr",
     "output_type": "stream",
     "text": [
      "/home/omarioni/miniconda2/lib/python2.7/site-packages/h5py/_hl/dataset.py:313: H5pyDeprecationWarning: dataset.value has been deprecated. Use dataset[()] instead.\n",
      "  \"Use dataset[()] instead.\", H5pyDeprecationWarning)\n"
     ]
    },
    {
     "name": "stdout",
     "output_type": "stream",
     "text": [
      "441762\n",
      "456724\n",
      "263630\n"
     ]
    }
   ],
   "source": [
    "import matplotlib.pyplot as plt\n",
    "import h5py\n",
    "import rotation_mio as rot\n",
    "import numpy as np\n",
    "import barstrength2 as strng\n",
    "\n",
    "h=0.732\n",
    "G = 4.299e-6\n",
    "a0=1\n",
    "H0 = h*100\n",
    "omega_lambda=0.716\n",
    "omega_matter=0.1277/(h**2.)\n",
    "omega0 = omega_lambda + omega_matter\n",
    "vector2 = ('M31','MW','M33')\n",
    "vector = ('00','01','03')\n",
    "\n",
    "#path = 'home/ornela/SimCLUES/'\n",
    "path = '/home/omarioni/'\n",
    "\n",
    "atime = np.loadtxt(path + 'redshift_outputs.txt')\n",
    "aexp = atime[:,2]\n",
    "aexp = aexp[::-1]\n",
    "\n",
    "\n",
    "path = '/mnt/is2/alejandro/ornella/'\n",
    "\n",
    "snap = h5py.File(path + 'outputs_1/snap_496.h5py', 'r')\n",
    "\n",
    "for i in range(0,3):\n",
    "    cm   = snap['subhalo_0'+ str('%s' %vector[i])+ '/Center'].value\n",
    "    r200 = snap['subhalo_0'+ str('%s' %vector[i])+ '/R200'].value\n",
    "\n",
    "    pstr = snap['subhalo_0'+ str('%s' %vector[i]) + '/Str/Coordinates'].value\n",
    "\n",
    "#---aca paso las coordenadas respecto al centro de la galaxia------\n",
    "    xstr = (pstr[:,0]-cm[0])*aexp[0]/h\n",
    "    ystr = (pstr[:,1]-cm[1])*aexp[0]/h\n",
    "    zstr = (pstr[:,2]-cm[2])*aexp[0]/h\n",
    "    r = np.sqrt(xstr**2+ystr**2+zstr**2)\n",
    "\n",
    "#----------------------masas----------------------------\n",
    "    r200 = r200*aexp[0]/h\n",
    "    rgal=0.15*r200\n",
    "\n",
    "    limit = np.where(r<rgal)\n",
    "\n",
    "    print len(r[limit])"
   ]
  },
  {
   "cell_type": "markdown",
   "metadata": {},
   "source": [
    "## GASOLINE - part estelares dentro de rgal"
   ]
  },
  {
   "cell_type": "code",
   "execution_count": 5,
   "metadata": {},
   "outputs": [
    {
     "name": "stdout",
     "output_type": "stream",
     "text": [
      "752440\n",
      "703628\n",
      "334443\n"
     ]
    }
   ],
   "source": [
    "import matplotlib.pyplot as plt\n",
    "import h5py\n",
    "import rotation_mio as rot\n",
    "import sphviewer as sph\n",
    "import numpy as np\n",
    "import barstrength2 as strng\n",
    "\n",
    "\n",
    "a0=1\n",
    "vector2 = ('M31','MW','M33')\n",
    "vector = (1,2,4)\n",
    "\n",
    "#path = 'home/ornela/SimCLUES/'\n",
    "path = '/mnt/sersic2/omarioni/'\n",
    "\n",
    "snap = h5py.File(path + 'Gasoline/outputs2/snap_1024.h5py', 'r')\n",
    "\n",
    "for i in range(0,3):\n",
    "    cm   = snap['subhalo_00'+ str('%s' %vector[i])+ '/Center'].value\n",
    "    r200 = snap['subhalo_00'+ str('%s' %vector[i])+ '/R200'].value\n",
    "    aexp = snap['subhalo_00'+ str('%s' %vector[i])+ '/aexp'].value\n",
    "    h    = snap['subhalo_00'+ str('%s' %vector[i])+ '/h'].value\n",
    "\n",
    "    pstr = snap['subhalo_00'+ str('%s' %vector[i]) + '/Str/Coordinates'].value\n",
    "\n",
    "#---aca paso las coordenadas respecto al centro de la galaxia------\n",
    "    xstr = pstr[:,0]-cm[0]\n",
    "    ystr = pstr[:,1]-cm[1]\n",
    "    zstr = pstr[:,2]-cm[2]\n",
    "    r = np.sqrt(xstr**2+ystr**2+zstr**2)\n",
    "\n",
    "#----------------------masas----------------------------\n",
    "    r200 = r200*aexp\n",
    "    rgal=0.15*r200\n",
    "\n",
    "    limit = np.where(r<rgal)\n",
    "    \n",
    "    print len(r[limit])"
   ]
  },
  {
   "cell_type": "code",
   "execution_count": null,
   "metadata": {},
   "outputs": [],
   "source": []
  }
 ],
 "metadata": {
  "kernelspec": {
   "display_name": "Python 2",
   "language": "python",
   "name": "python2"
  },
  "language_info": {
   "codemirror_mode": {
    "name": "ipython",
    "version": 2
   },
   "file_extension": ".py",
   "mimetype": "text/x-python",
   "name": "python",
   "nbconvert_exporter": "python",
   "pygments_lexer": "ipython2",
   "version": "2.7.17"
  }
 },
 "nbformat": 4,
 "nbformat_minor": 2
}
